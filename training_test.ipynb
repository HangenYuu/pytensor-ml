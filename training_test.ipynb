{
 "cells": [
  {
   "cell_type": "code",
   "execution_count": 1,
   "id": "34e207d5-2211-46d9-97a4-28c6bc3cf7d0",
   "metadata": {},
   "outputs": [],
   "source": [
    "%load_ext autoreload\n",
    "%autoreload 2"
   ]
  },
  {
   "cell_type": "code",
   "execution_count": 2,
   "id": "ee712190-edad-443a-acfc-215f174603c9",
   "metadata": {},
   "outputs": [],
   "source": [
    "from sklearn.datasets import load_digits\n",
    "from sklearn.preprocessing import OneHotEncoder, StandardScaler, MinMaxScaler\n",
    "from pytensor_ml.layers import Linear, Input, Sequential\n",
    "from pytensor_ml.activations import ReLU, LeakyReLU, Softmax\n",
    "from pytensor_ml.loss import CrossEntropy\n",
    "from pytensor_ml.model import Model, initialize_weights\n",
    "from pytensor_ml.optimizers import SGD\n",
    "\n",
    "import pytensor"
   ]
  },
  {
   "cell_type": "code",
   "execution_count": 3,
   "id": "e787b236-fdd1-4c37-b5ff-40e616013b89",
   "metadata": {},
   "outputs": [],
   "source": [
    "X, y = load_digits(return_X_y=True)\n",
    "y_onehot = OneHotEncoder().fit_transform(y[:, None]).toarray()\n",
    "X_normed = MinMaxScaler().fit_transform(X)"
   ]
  },
  {
   "cell_type": "code",
   "execution_count": 4,
   "id": "b9b6a779-0c89-4e98-ae73-ce5961232d98",
   "metadata": {},
   "outputs": [],
   "source": [
    "# X_in = Input('X_in', shape=(64, ))\n",
    "X_in = pytensor.tensor.tensor('X_in', shape=(None, 64))"
   ]
  },
  {
   "cell_type": "code",
   "execution_count": 5,
   "id": "ac431834-6442-4b14-8073-916f53eaa145",
   "metadata": {},
   "outputs": [],
   "source": [
    "prediction_network = Sequential(\n",
    "    Linear('Linear_1', n_in=64, n_out=256),\n",
    "    LeakyReLU(),\n",
    "    Linear('Linear_2', n_in=256, n_out=128),\n",
    "    LeakyReLU(),\n",
    "    Linear('Logits', n_in=128, n_out=10),\n",
    ")\n",
    "\n",
    "y_hat = prediction_network(X_in)\n",
    "model = Model(X_in, y_hat)\n",
    "\n",
    "loss_fn = CrossEntropy(expect_onehot_labels=True, expect_logits=True, reduction='mean')"
   ]
  },
  {
   "cell_type": "code",
   "execution_count": 6,
   "id": "e00fe36a-3813-4181-ab5d-d9cd18427ea9",
   "metadata": {},
   "outputs": [
    {
     "name": "stdout",
     "output_type": "stream",
     "text": [
      "Add [id A] 'Linear[['?', 128] -> ['?', 10]]'\n",
      " ├─ Blockwise{dot, (m,k),(k,n)->(m,n)} [id B]\n",
      " │  ├─ Switch [id C] 'LeakyReLU'\n",
      " │  │  ├─ Gt [id D]\n",
      " │  │  │  ├─ Add [id E] 'Linear[['?', 256] -> ['?', 128]]'\n",
      " │  │  │  │  ├─ Blockwise{dot, (m,k),(k,n)->(m,n)} [id F]\n",
      " │  │  │  │  │  ├─ Switch [id G] 'LeakyReLU'\n",
      " │  │  │  │  │  │  ├─ Gt [id H]\n",
      " │  │  │  │  │  │  │  ├─ Add [id I] 'Linear[['?', 64] -> ['?', 256]]'\n",
      " │  │  │  │  │  │  │  │  ├─ Blockwise{dot, (m,k),(k,n)->(m,n)} [id J]\n",
      " │  │  │  │  │  │  │  │  │  ├─ X_in [id K]\n",
      " │  │  │  │  │  │  │  │  │  └─ Linear_1_W [id L]\n",
      " │  │  │  │  │  │  │  │  └─ ExpandDims{axis=0} [id M]\n",
      " │  │  │  │  │  │  │  │     └─ Linear_1_b [id N]\n",
      " │  │  │  │  │  │  │  └─ ExpandDims{axes=[0, 1]} [id O]\n",
      " │  │  │  │  │  │  │     └─ 0 [id P]\n",
      " │  │  │  │  │  │  ├─ Add [id I] 'Linear[['?', 64] -> ['?', 256]]'\n",
      " │  │  │  │  │  │  │  └─ ···\n",
      " │  │  │  │  │  │  └─ Mul [id Q]\n",
      " │  │  │  │  │  │     ├─ ExpandDims{axes=[0, 1]} [id R]\n",
      " │  │  │  │  │  │     │  └─ -0.01 [id S]\n",
      " │  │  │  │  │  │     └─ Add [id I] 'Linear[['?', 64] -> ['?', 256]]'\n",
      " │  │  │  │  │  │        └─ ···\n",
      " │  │  │  │  │  └─ Linear_2_W [id T]\n",
      " │  │  │  │  └─ ExpandDims{axis=0} [id U]\n",
      " │  │  │  │     └─ Linear_2_b [id V]\n",
      " │  │  │  └─ ExpandDims{axes=[0, 1]} [id W]\n",
      " │  │  │     └─ 0 [id X]\n",
      " │  │  ├─ Add [id E] 'Linear[['?', 256] -> ['?', 128]]'\n",
      " │  │  │  └─ ···\n",
      " │  │  └─ Mul [id Y]\n",
      " │  │     ├─ ExpandDims{axes=[0, 1]} [id Z]\n",
      " │  │     │  └─ -0.01 [id BA]\n",
      " │  │     └─ Add [id E] 'Linear[['?', 256] -> ['?', 128]]'\n",
      " │  │        └─ ···\n",
      " │  └─ Logits_W [id BB]\n",
      " └─ ExpandDims{axis=0} [id BC]\n",
      "    └─ Logits_b [id BD]\n",
      "\n"
     ]
    }
   ],
   "source": [
    "print(model)"
   ]
  },
  {
   "cell_type": "code",
   "execution_count": 7,
   "id": "96cbd22a-b0cd-4930-b46a-857247ba333e",
   "metadata": {},
   "outputs": [],
   "source": [
    "from sklearn.metrics import log_loss"
   ]
  },
  {
   "cell_type": "code",
   "execution_count": 8,
   "id": "659b6d70-7feb-496e-b096-31c5b8946b1b",
   "metadata": {},
   "outputs": [],
   "source": [
    "optim = SGD(model, loss_fn, ndim_out=2, learning_rate=1e-3)"
   ]
  },
  {
   "cell_type": "code",
   "execution_count": 9,
   "id": "2a7c9860-f7f9-4041-bf95-8a5ca7fb0ba9",
   "metadata": {},
   "outputs": [],
   "source": [
    "model.initalize_weights(random_seed='hi')\n",
    "initial_weights = [x.copy() for x in model.weight_values]"
   ]
  },
  {
   "cell_type": "code",
   "execution_count": 10,
   "id": "090b5f28-df06-460f-9aec-b8f6799bded2",
   "metadata": {},
   "outputs": [],
   "source": [
    "import numpy as np\n",
    "n_obs = X.shape[0]\n",
    "cutpoints = np.arange(0, n_obs, 1000).tolist()\n",
    "cutpoints += [n_obs]\n",
    "batch_slices = list(zip(cutpoints[:-1], cutpoints[1:]))\n",
    "loss_history = []\n",
    "n_epochs = 5_000\n",
    "\n",
    "for _ in range(n_epochs):\n",
    "    all_idx = np.arange(n_obs)\n",
    "    np.random.shuffle(all_idx)\n",
    "    y_epoch = y_onehot[all_idx, :]\n",
    "    X_epoch = X_normed[all_idx, :]\n",
    "    for (start, stop) in batch_slices:\n",
    "        idx = slice(start, stop)\n",
    "        loss = optim.step(X_epoch[idx], y_epoch[idx])\n",
    "        loss_history.append(loss)"
   ]
  },
  {
   "cell_type": "code",
   "execution_count": 11,
   "id": "16bfd1a0-b8bf-403c-9da9-544b5879b075",
   "metadata": {},
   "outputs": [
    {
     "data": {
      "text/plain": [
       "[<matplotlib.lines.Line2D at 0x7fd7e3ccb470>]"
      ]
     },
     "execution_count": 11,
     "metadata": {},
     "output_type": "execute_result"
    },
    {
     "data": {
      "image/png": "[encoded data removed]",
      "text/plain": [
       "<Figure size 640x480 with 1 Axes>"
      ]
     },
     "metadata": {},
     "output_type": "display_data"
    }
   ],
   "source": [
    "import matplotlib.pyplot as plt\n",
    "plt.plot(loss_history)"
   ]
  },
  {
   "cell_type": "code",
   "execution_count": 14,
   "id": "d138eac0-753e-4cee-82ab-8094c46b00dd",
   "metadata": {},
   "outputs": [],
   "source": [
    "from scipy.special import softmax\n",
    "y_hat_logits = model.predict(X_normed)\n",
    "y_hat_probs = softmax(y_hat_logits, axis=-1)\n",
    "y_hat = np.argmax(y_hat_probs, axis=-1)"
   ]
  },
  {
   "cell_type": "code",
   "execution_count": 17,
   "id": "32f90a7e-b6de-420e-b703-8c4196e4b198",
   "metadata": {},
   "outputs": [
    {
     "name": "stdout",
     "output_type": "stream",
     "text": [
      "Preparing transaction: ...working... done\n",
      "Verifying transaction: ...working... done\n",
      "Executing transaction: ...working... done\n"
     ]
    }
   ],
   "source": [
    "!mamba install seaborn -q -y"
   ]
  },
  {
   "cell_type": "code",
   "execution_count": 16,
   "id": "483cac54-284e-4b8a-80c0-d99f5d06c4a2",
   "metadata": {},
   "outputs": [
    {
     "ename": "ModuleNotFoundError",
     "evalue": "No module named 'seaborn'",
     "output_type": "error",
     "traceback": [
      "\u001b[0;31m---------------------------------------------------------------------------\u001b[0m",
      "\u001b[0;31mModuleNotFoundError\u001b[0m                       Traceback (most recent call last)",
      "Cell \u001b[0;32mIn[16], line 2\u001b[0m\n\u001b[1;32m      1\u001b[0m \u001b[38;5;28;01mfrom\u001b[39;00m \u001b[38;5;21;01msklearn\u001b[39;00m\u001b[38;5;21;01m.\u001b[39;00m\u001b[38;5;21;01mmetrics\u001b[39;00m \u001b[38;5;28;01mimport\u001b[39;00m confusion_matrix\n\u001b[0;32m----> 2\u001b[0m \u001b[38;5;28;01mimport\u001b[39;00m \u001b[38;5;21;01mseaborn\u001b[39;00m \u001b[38;5;28;01mas\u001b[39;00m \u001b[38;5;21;01msns\u001b[39;00m\n\u001b[1;32m      3\u001b[0m sns\u001b[38;5;241m.\u001b[39mheatmap(confusion_matrix(y, y_hat))\n",
      "\u001b[0;31mModuleNotFoundError\u001b[0m: No module named 'seaborn'"
     ]
    }
   ],
   "source": [
    "from sklearn.metrics import confusion_matrix\n",
    "import seaborn as sns\n",
    "sns.heatmap(confusion_matrix(y, y_hat))"
   ]
  },
  {
   "cell_type": "code",
   "execution_count": null,
   "id": "5fb225b9-60ff-4679-93de-328e70c73e74",
   "metadata": {},
   "outputs": [],
   "source": []
  }
 ],
 "metadata": {
  "kernelspec": {
   "display_name": "Python 3 (ipykernel)",
   "language": "python",
   "name": "python3"
  },
  "language_info": {
   "codemirror_mode": {
    "name": "ipython",
    "version": 3
   },
   "file_extension": ".py",
   "mimetype": "text/x-python",
   "name": "python",
   "nbconvert_exporter": "python",
   "pygments_lexer": "ipython3",
   "version": "3.12.3"
  }
 },
 "nbformat": 4,
 "nbformat_minor": 5
}
