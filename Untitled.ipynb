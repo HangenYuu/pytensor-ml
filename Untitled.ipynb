{
 "cells": [
  {
   "cell_type": "code",
   "execution_count": 1,
   "id": "34e207d5-2211-46d9-97a4-28c6bc3cf7d0",
   "metadata": {},
   "outputs": [],
   "source": [
    "%load_ext autoreload\n",
    "%autoreload 2"
   ]
  },
  {
   "cell_type": "code",
   "execution_count": 11,
   "id": "ee712190-edad-443a-acfc-215f174603c9",
   "metadata": {},
   "outputs": [],
   "source": [
    "from sklearn.datasets import load_digits\n",
    "from pytensor_ml.layers import Linear, Input, Sequential\n",
    "from pytensor_ml.activations import ReLU, LeakyReLU\n",
    "from pytensor_ml.model import Model\n",
    "\n",
    "import pytensor"
   ]
  },
  {
   "cell_type": "code",
   "execution_count": 12,
   "id": "e787b236-fdd1-4c37-b5ff-40e616013b89",
   "metadata": {},
   "outputs": [],
   "source": [
    "X, y = load_digits(return_X_y=True)"
   ]
  },
  {
   "cell_type": "code",
   "execution_count": 13,
   "id": "b9b6a779-0c89-4e98-ae73-ce5961232d98",
   "metadata": {},
   "outputs": [],
   "source": [
    "X_in = Input('X_in', shape=(64,))"
   ]
  },
  {
   "cell_type": "code",
   "execution_count": 14,
   "id": "ac431834-6442-4b14-8073-916f53eaa145",
   "metadata": {},
   "outputs": [],
   "source": [
    "feature_extractor = Sequential(\n",
    "    Linear('Linear_1', n_in=64, n_out=32),\n",
    "    ReLU(),\n",
    "    Linear('Linear_2', n_in=32, n_out=16),\n",
    "    LeakyReLU(),\n",
    "    Linear('Logits', n_in=16, n_out=10),\n",
    ")"
   ]
  },
  {
   "cell_type": "code",
   "execution_count": 15,
   "id": "c5ba9ae8-dbc3-4a2c-bd33-7595a8f7e3b0",
   "metadata": {},
   "outputs": [],
   "source": [
    "y_hat = feature_extractor(X_in)"
   ]
  },
  {
   "cell_type": "code",
   "execution_count": 17,
   "id": "4d80cb35-0398-4fe5-b313-d79cf639854e",
   "metadata": {},
   "outputs": [],
   "source": [
    "model = Model(X, y_hat)"
   ]
  },
  {
   "cell_type": "code",
   "execution_count": null,
   "id": "8f8d90f2-eec6-422f-b492-a6da8a5b8a55",
   "metadata": {},
   "outputs": [],
   "source": []
  },
  {
   "cell_type": "code",
   "execution_count": 18,
   "id": "e00fe36a-3813-4181-ab5d-d9cd18427ea9",
   "metadata": {},
   "outputs": [
    {
     "name": "stdout",
     "output_type": "stream",
     "text": [
      "Add [id A]\n",
      " ├─ DropDims{axis=0} [id B]\n",
      " │  └─ Blockwise{dot, (m,k),(k,n)->(m,n)} [id C]\n",
      " │     ├─ ExpandDims{axis=0} [id D]\n",
      " │     │  └─ Switch [id E] 'LeakyReLU'\n",
      " │     │     ├─ Gt [id F]\n",
      " │     │     │  ├─ Add [id G]\n",
      " │     │     │  │  ├─ DropDims{axis=0} [id H]\n",
      " │     │     │  │  │  └─ Blockwise{dot, (m,k),(k,n)->(m,n)} [id I]\n",
      " │     │     │  │  │     ├─ ExpandDims{axis=0} [id J]\n",
      " │     │     │  │  │     │  └─ Maximum [id K] 'ReLU'\n",
      " │     │     │  │  │     │     ├─ ExpandDims{axis=0} [id L]\n",
      " │     │     │  │  │     │     │  └─ 0 [id M]\n",
      " │     │     │  │  │     │     └─ Add [id N]\n",
      " │     │     │  │  │     │        ├─ DropDims{axis=0} [id O]\n",
      " │     │     │  │  │     │        │  └─ Blockwise{dot, (m,k),(k,n)->(m,n)} [id P]\n",
      " │     │     │  │  │     │        │     ├─ ExpandDims{axis=0} [id Q]\n",
      " │     │     │  │  │     │        │     │  └─ X_in [id R]\n",
      " │     │     │  │  │     │        │     └─ Linear_1_W [id S]\n",
      " │     │     │  │  │     │        └─ Linear_1_b [id T]\n",
      " │     │     │  │  │     └─ Linear_2_W [id U]\n",
      " │     │     │  │  └─ Linear_2_b [id V]\n",
      " │     │     │  └─ ExpandDims{axis=0} [id W]\n",
      " │     │     │     └─ 0 [id X]\n",
      " │     │     ├─ Add [id G]\n",
      " │     │     │  └─ ···\n",
      " │     │     └─ Mul [id Y]\n",
      " │     │        ├─ ExpandDims{axis=0} [id Z]\n",
      " │     │        │  └─ -0.01 [id BA]\n",
      " │     │        └─ Add [id G]\n",
      " │     │           └─ ···\n",
      " │     └─ Logits_W [id BB]\n",
      " └─ Logits_b [id BC]\n",
      "\n"
     ]
    }
   ],
   "source": [
    "print(model)"
   ]
  },
  {
   "cell_type": "code",
   "execution_count": null,
   "id": "090b5f28-df06-460f-9aec-b8f6799bded2",
   "metadata": {},
   "outputs": [],
   "source": []
  }
 ],
 "metadata": {
  "kernelspec": {
   "display_name": "Python 3 (ipykernel)",
   "language": "python",
   "name": "python3"
  },
  "language_info": {
   "codemirror_mode": {
    "name": "ipython",
    "version": 3
   },
   "file_extension": ".py",
   "mimetype": "text/x-python",
   "name": "python",
   "nbconvert_exporter": "python",
   "pygments_lexer": "ipython3",
   "version": "3.12.3"
  }
 },
 "nbformat": 4,
 "nbformat_minor": 5
}
